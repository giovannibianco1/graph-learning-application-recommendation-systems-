{
  "nbformat": 4,
  "nbformat_minor": 0,
  "metadata": {
    "colab": {
      "provenance": [],
      "gpuType": "T4"
    },
    "kernelspec": {
      "name": "python3",
      "display_name": "Python 3"
    },
    "accelerator": "GPU"
  },
  "cells": [
    {
      "cell_type": "code",
      "metadata": {
        "id": "zF5bw3m9UrMy",
        "colab": {
          "base_uri": "https://localhost:8080/"
        },
        "outputId": "73dbac02-db34-4570-9fcd-1103c1d99062"
      },
      "source": [
        "# Install required packages.\n",
        "import os\n",
        "import torch\n",
        "os.environ['TORCH'] = torch.__version__\n",
        "print(torch.__version__)\n",
        "\n",
        "!pip install -q torch-scatter -f https://data.pyg.org/whl/torch-${TORCH}.html\n",
        "!pip install -q torch-sparse -f https://data.pyg.org/whl/torch-${TORCH}.html\n",
        "!pip install -q git+https://github.com/pyg-team/pytorch_geometric.git\n",
        "\n",
        "# Helper function for visualization.\n",
        "%matplotlib inline\n",
        "import networkx as nx\n",
        "import matplotlib.pyplot as plt\n",
        "\n",
        "\n",
        "def visualize_graph(G, color):\n",
        "    plt.figure(figsize=(7,7))\n",
        "    plt.xticks([])\n",
        "    plt.yticks([])\n",
        "    nx.draw_networkx(G, pos=nx.spring_layout(G, seed=42), with_labels=False,\n",
        "                     node_color=color, cmap=\"Set2\")\n",
        "    plt.show()\n",
        "\n",
        "\n",
        "def visualize_embedding(h, color, epoch=None, loss=None):\n",
        "    plt.figure(figsize=(7,7))\n",
        "    plt.xticks([])\n",
        "    plt.yticks([])\n",
        "    h = h.detach().cpu().numpy()\n",
        "    plt.scatter(h[:, 0], h[:, 1], s=140, c=color, cmap=\"Set2\")\n",
        "    if epoch is not None and loss is not None:\n",
        "        plt.xlabel(f'Epoch: {epoch}, Loss: {loss.item():.4f}', fontsize=16)\n",
        "    plt.show()"
      ],
      "execution_count": 1,
      "outputs": [
        {
          "output_type": "stream",
          "name": "stdout",
          "text": [
            "2.4.0+cu121\n",
            "\u001b[2K     \u001b[90m━━━━━━━━━━━━━━━━━━━━━━━━━━━━━━━━━━━━━━━━\u001b[0m \u001b[32m10.9/10.9 MB\u001b[0m \u001b[31m51.2 MB/s\u001b[0m eta \u001b[36m0:00:00\u001b[0m\n",
            "\u001b[2K     \u001b[90m━━━━━━━━━━━━━━━━━━━━━━━━━━━━━━━━━━━━━━━━\u001b[0m \u001b[32m5.1/5.1 MB\u001b[0m \u001b[31m19.0 MB/s\u001b[0m eta \u001b[36m0:00:00\u001b[0m\n",
            "\u001b[?25h  Installing build dependencies ... \u001b[?25l\u001b[?25hdone\n",
            "  Getting requirements to build wheel ... \u001b[?25l\u001b[?25hdone\n",
            "  Preparing metadata (pyproject.toml) ... \u001b[?25l\u001b[?25hdone\n",
            "  Building wheel for torch-geometric (pyproject.toml) ... \u001b[?25l\u001b[?25hdone\n"
          ]
        }
      ]
    },
    {
      "cell_type": "code",
      "metadata": {
        "id": "H_VTFHd0uFz6",
        "colab": {
          "base_uri": "https://localhost:8080/"
        },
        "outputId": "69ea4646-42e1-4467-c394-7f268135140e"
      },
      "source": [
        "from torch_geometric.datasets import Planetoid\n",
        "#from torch_geometric.datasets import KarateClub\n",
        "dataset = Planetoid(\"\",\"Cora\")\n",
        "#dataset=KarateClub()\n",
        "print(f'Dataset: {dataset}:')\n",
        "print('======================')\n",
        "print(f'Number of graphs: {len(dataset)}')\n",
        "print(f'Number of features: {dataset.num_features}')\n",
        "print(f'Number of classes: {dataset.num_classes}')"
      ],
      "execution_count": 2,
      "outputs": [
        {
          "output_type": "stream",
          "name": "stderr",
          "text": [
            "Downloading https://github.com/kimiyoung/planetoid/raw/master/data/ind.cora.x\n",
            "Downloading https://github.com/kimiyoung/planetoid/raw/master/data/ind.cora.tx\n",
            "Downloading https://github.com/kimiyoung/planetoid/raw/master/data/ind.cora.allx\n",
            "Downloading https://github.com/kimiyoung/planetoid/raw/master/data/ind.cora.y\n",
            "Downloading https://github.com/kimiyoung/planetoid/raw/master/data/ind.cora.ty\n",
            "Downloading https://github.com/kimiyoung/planetoid/raw/master/data/ind.cora.ally\n",
            "Downloading https://github.com/kimiyoung/planetoid/raw/master/data/ind.cora.graph\n",
            "Downloading https://github.com/kimiyoung/planetoid/raw/master/data/ind.cora.test.index\n",
            "Processing...\n"
          ]
        },
        {
          "output_type": "stream",
          "name": "stdout",
          "text": [
            "Dataset: Cora():\n",
            "======================\n",
            "Number of graphs: 1\n",
            "Number of features: 1433\n",
            "Number of classes: 7\n"
          ]
        },
        {
          "output_type": "stream",
          "name": "stderr",
          "text": [
            "Done!\n"
          ]
        }
      ]
    },
    {
      "cell_type": "code",
      "metadata": {
        "id": "gUFSrDPxuQ23",
        "colab": {
          "base_uri": "https://localhost:8080/"
        },
        "outputId": "c63e7987-8445-48e6-be74-7ade3eb07d98"
      },
      "source": [
        "data = dataset[0]  # Get the first graph object.\n",
        "\n",
        "print(data)\n",
        "print('==============================================================')\n",
        "\n",
        "# Gather some statistics about the graph.\n",
        "print(f'Number of nodes: {data.num_nodes}')\n",
        "print(f'Number of edges: {data.num_edges}')\n",
        "print(f'Average node degree: {data.num_edges / data.num_nodes:.2f}')\n",
        "print(f'Number of training nodes: {data.train_mask.sum()}')\n",
        "print(f'Training node label rate: {int(data.train_mask.sum()) / data.num_nodes:.2f}')\n",
        "print(f'Has isolated nodes: {data.has_isolated_nodes()}')\n",
        "print(f'Has self-loops: {data.has_self_loops()}')\n",
        "print(f'Is undirected: {data.is_undirected()}')"
      ],
      "execution_count": 3,
      "outputs": [
        {
          "output_type": "stream",
          "name": "stdout",
          "text": [
            "Data(x=[2708, 1433], edge_index=[2, 10556], y=[2708], train_mask=[2708], val_mask=[2708], test_mask=[2708])\n",
            "==============================================================\n",
            "Number of nodes: 2708\n",
            "Number of edges: 10556\n",
            "Average node degree: 3.90\n",
            "Number of training nodes: 140\n",
            "Training node label rate: 0.05\n",
            "Has isolated nodes: False\n",
            "Has self-loops: False\n",
            "Is undirected: True\n"
          ]
        }
      ]
    },
    {
      "cell_type": "code",
      "metadata": {
        "id": "ci-LpZWhRJoI",
        "colab": {
          "base_uri": "https://localhost:8080/",
          "height": 52
        },
        "outputId": "a42440c7-7b0c-470e-8893-907c7e1625b0"
      },
      "source": [
        "from IPython.display import Javascript  # Restrict height of output cell.\n",
        "display(Javascript('''google.colab.output.setIframeHeight(0, true, {maxHeight: 300})'''))\n",
        "\n",
        "edge_index = data.edge_index\n",
        "print(edge_index)"
      ],
      "execution_count": 4,
      "outputs": [
        {
          "output_type": "display_data",
          "data": {
            "text/plain": [
              "<IPython.core.display.Javascript object>"
            ],
            "application/javascript": [
              "google.colab.output.setIframeHeight(0, true, {maxHeight: 300})"
            ]
          },
          "metadata": {}
        },
        {
          "output_type": "stream",
          "name": "stdout",
          "text": [
            "tensor([[ 633, 1862, 2582,  ...,  598, 1473, 2706],\n",
            "        [   0,    0,    0,  ..., 2707, 2707, 2707]])\n"
          ]
        }
      ]
    },
    {
      "cell_type": "code",
      "source": [
        "#create adjacency matrics\n",
        "import numpy as np\n",
        "x=np.zeros([data.num_nodes,data.num_nodes])\n",
        "for i in range(edge_index.shape[1]):\n",
        "    x[edge_index[0,i],edge_index[1,i]]=1\n",
        "    x[edge_index[1,i],edge_index[0,i]]=1\n",
        "print(x)"
      ],
      "metadata": {
        "id": "vhA7p4iWcRyR",
        "outputId": "bd8c2a77-ba7c-427e-c040-2a4bbd08ad10",
        "colab": {
          "base_uri": "https://localhost:8080/"
        }
      },
      "execution_count": 5,
      "outputs": [
        {
          "output_type": "stream",
          "name": "stdout",
          "text": [
            "[[0. 0. 0. ... 0. 0. 0.]\n",
            " [0. 0. 1. ... 0. 0. 0.]\n",
            " [0. 1. 0. ... 0. 0. 0.]\n",
            " ...\n",
            " [0. 0. 0. ... 0. 0. 0.]\n",
            " [0. 0. 0. ... 0. 0. 1.]\n",
            " [0. 0. 0. ... 0. 1. 0.]]\n"
          ]
        }
      ]
    },
    {
      "cell_type": "markdown",
      "source": [
        "second version of cosine similarity vectorised"
      ],
      "metadata": {
        "id": "TGpVY_aqpC6b"
      }
    },
    {
      "cell_type": "code",
      "source": [
        "#this only works if the matrix x is symmetric, meaning we cannot use it with the embedd\n",
        "def cosine_similarity(x):\n",
        "  # Step 1: Normalize each row to have unit norm\n",
        "  norms = np.linalg.norm(x, axis=1, keepdims=True)\n",
        "  x_normalized = x / norms\n",
        "\n",
        "  # Step 2: Compute cosine similarity matrix\n",
        "  csim = np.dot(x_normalized, x_normalized.T)\n",
        "  return csim\n",
        "csim=cosine_similarity(x)\n",
        "print(csim)"
      ],
      "metadata": {
        "colab": {
          "base_uri": "https://localhost:8080/"
        },
        "id": "lGGEfefBgFxO",
        "outputId": "10db2d6a-6b8e-4703-e9ac-293bd67761d9"
      },
      "execution_count": 6,
      "outputs": [
        {
          "output_type": "stream",
          "name": "stdout",
          "text": [
            "[[1.  0.  0.  ... 0.  0.  0. ]\n",
            " [0.  1.  0.  ... 0.  0.  0. ]\n",
            " [0.  0.  1.  ... 0.  0.  0. ]\n",
            " ...\n",
            " [0.  0.  0.  ... 1.  0.  0. ]\n",
            " [0.  0.  0.  ... 0.  1.  0.5]\n",
            " [0.  0.  0.  ... 0.  0.5 1. ]]\n"
          ]
        }
      ]
    },
    {
      "cell_type": "code",
      "source": [
        "def suggestions(node,csim):\n",
        "    x = csim  # Assuming csim is defined elsewhere as a cosine similarity matrix\n",
        "    # Use argsort to get indices sorted by their cosine similarity values in ascending order\n",
        "    indices = np.argsort(x[node])\n",
        "\n",
        "    # Select the last 10 indices (the ones with the highest values) and reverse to make highest first\n",
        "    top_indices = indices[-10:][::-1]\n",
        "\n",
        "    # Print top indices for debug purposes\n",
        "    for i in top_indices:  # Using 'i' directly to iterate over top_indices\n",
        "        print(f'node: {i}, cosine similarity: {x[node][i]:.4f}')  # formatted to 4 decimal places\n",
        "\n",
        "suggestions(10,csim)"
      ],
      "metadata": {
        "colab": {
          "base_uri": "https://localhost:8080/"
        },
        "id": "jjw9PoVyi7xr",
        "outputId": "52c39eb5-fcad-46df-9198-900712d9b9c9"
      },
      "execution_count": 7,
      "outputs": [
        {
          "output_type": "stream",
          "name": "stdout",
          "text": [
            "node: 10, cosine similarity: 1.0000\n",
            "node: 1140, cosine similarity: 0.7071\n",
            "node: 1800, cosine similarity: 0.4082\n",
            "node: 1986, cosine similarity: 0.0877\n",
            "node: 306, cosine similarity: 0.0801\n",
            "node: 890, cosine similarity: 0.0000\n",
            "node: 906, cosine similarity: 0.0000\n",
            "node: 905, cosine similarity: 0.0000\n",
            "node: 904, cosine similarity: 0.0000\n",
            "node: 903, cosine similarity: 0.0000\n"
          ]
        }
      ]
    },
    {
      "cell_type": "markdown",
      "source": [
        "Find the suggested nodes using the embed"
      ],
      "metadata": {
        "id": "XjehsVLvzjOL"
      }
    },
    {
      "cell_type": "code",
      "metadata": {
        "id": "AkQAVluLuxT_",
        "colab": {
          "base_uri": "https://localhost:8080/"
        },
        "outputId": "b9f16641-a61b-4926-a33d-61be82f2772d"
      },
      "source": [
        "import torch\n",
        "from torch.nn import Linear\n",
        "from torch_geometric.nn import GCNConv\n",
        "\n",
        "\n",
        "class GCN(torch.nn.Module):\n",
        "    def __init__(self):\n",
        "        super().__init__()\n",
        "        torch.manual_seed(1234)\n",
        "        self.conv1 = GCNConv(dataset.num_features, 4)\n",
        "        self.conv2 = GCNConv(4, 4)\n",
        "        self.conv3 = GCNConv(4, 2)\n",
        "        self.classifier = Linear(2, dataset.num_classes)\n",
        "\n",
        "    def forward(self, x, edge_index):\n",
        "        h = self.conv1(x, edge_index)\n",
        "        h = h.tanh()\n",
        "        h = self.conv2(h, edge_index)\n",
        "        h = h.tanh()\n",
        "        h = self.conv3(h, edge_index)\n",
        "        h = h.tanh()  # Final GNN embedding space.\n",
        "\n",
        "        # Apply a final (linear) classifier.\n",
        "        out = self.classifier(h)\n",
        "\n",
        "        return out, h\n",
        "\n",
        "model = GCN()\n",
        "print(model)"
      ],
      "execution_count": 8,
      "outputs": [
        {
          "output_type": "stream",
          "name": "stdout",
          "text": [
            "GCN(\n",
            "  (conv1): GCNConv(1433, 4)\n",
            "  (conv2): GCNConv(4, 4)\n",
            "  (conv3): GCNConv(4, 2)\n",
            "  (classifier): Linear(in_features=2, out_features=7, bias=True)\n",
            ")\n"
          ]
        }
      ]
    },
    {
      "cell_type": "code",
      "metadata": {
        "id": "nwHtX5siwe2v"
      },
      "source": [
        "model = GCN()\n",
        "_, h = model(data.x, data.edge_index)"
      ],
      "execution_count": 9,
      "outputs": []
    },
    {
      "cell_type": "code",
      "source": [
        "import time\n",
        "from IPython.display import Javascript  # Restrict height of output cell.\n",
        "display(Javascript('''google.colab.output.setIframeHeight(0, true, {maxHeight: 430})'''))\n",
        "\n",
        "model = GCN()\n",
        "criterion = torch.nn.CrossEntropyLoss()  # Define loss criterion.\n",
        "optimizer = torch.optim.Adam(model.parameters(), lr=0.1)  # Define optimizer.\n",
        "\n",
        "def train(data):\n",
        "    optimizer.zero_grad()  # Clear gradients.\n",
        "    out, h = model(data.x, data.edge_index)  # Perform a single forward pass.\n",
        "    loss = criterion(out[data.train_mask], data.y[data.train_mask])  # Compute the loss solely based on the training nodes.\n",
        "    loss.backward()  # Derive gradients.\n",
        "    optimizer.step()  # Update parameters based on gradients.\n",
        "    return loss, h\n",
        "\n",
        "for epoch in range(2000):\n",
        "    loss, h = train(data)"
      ],
      "metadata": {
        "colab": {
          "base_uri": "https://localhost:8080/",
          "height": 17
        },
        "id": "71Db-z50tOmr",
        "outputId": "502a1851-5fee-4064-da5d-bb2bd1f6f18f"
      },
      "execution_count": 10,
      "outputs": [
        {
          "output_type": "display_data",
          "data": {
            "text/plain": [
              "<IPython.core.display.Javascript object>"
            ],
            "application/javascript": [
              "google.colab.output.setIframeHeight(0, true, {maxHeight: 430})"
            ]
          },
          "metadata": {}
        }
      ]
    },
    {
      "cell_type": "code",
      "source": [
        "\n",
        "# Function to compute cosine similarity\n",
        "def cosine_similarity(vec1, vec2):\n",
        "    cos_sim = np.dot(vec1, vec2) / (np.linalg.norm(vec1) * np.linalg.norm(vec2))\n",
        "    return cos_sim\n",
        "\n",
        "# Assuming h is the matrix of vectors where each row is a vector\n",
        "h = h.detach().numpy()  # Make sure h is converted to a numpy array\n",
        "\n",
        "# Initialize a dictionary to hold cosine similarities\n",
        "csim = {}\n",
        "for i in range(h.shape[0]):  # Iterate over each vector (row)\n",
        "    for j in range(h.shape[0]):\n",
        "        if i != j:  # Avoid self-similarity (diagonal)\n",
        "            csim[(i, j)] = cosine_similarity(h[i, :], h[j, :])\n",
        "        else:\n",
        "            csim[(i, j)] = 0.0  # Set self-similarity to 0\n",
        "\n",
        "# Create a dictionary to store the 10 most similar rows for each row\n",
        "top = {}\n",
        "for i in range(h.shape[0]):\n",
        "    # Get all similarities for row i\n",
        "    similarities = [(j, csim[(i, j)]) for j in range(h.shape[0])]\n",
        "    # Sort by similarity score in descending order and select top 10 (excluding the row itself)\n",
        "    top[i] = sorted(similarities, key=lambda x: x[1], reverse=True)[:10]\n",
        "\n",
        "# Example: print the top 10 most similar rows for row 10\n",
        "results = top[10]  # List of the 10 most similar rows for row 10\n",
        "for node, similarity in results:\n",
        "    print(f'node: {int(node)}, cosine similarity: {similarity:.4f}')  # formatted to 4 decimal places\n"
      ],
      "metadata": {
        "colab": {
          "base_uri": "https://localhost:8080/"
        },
        "id": "paCj8Uwk0fYK",
        "outputId": "f5c2f2d4-9d93-4434-9e7c-fe34e973780a"
      },
      "execution_count": 11,
      "outputs": [
        {
          "output_type": "stream",
          "name": "stdout",
          "text": [
            "node: 1692, cosine similarity: 1.0000\n",
            "node: 1848, cosine similarity: 1.0000\n",
            "node: 2671, cosine similarity: 1.0000\n",
            "node: 62, cosine similarity: 1.0000\n",
            "node: 65, cosine similarity: 1.0000\n",
            "node: 94, cosine similarity: 1.0000\n",
            "node: 415, cosine similarity: 1.0000\n",
            "node: 603, cosine similarity: 1.0000\n",
            "node: 716, cosine similarity: 1.0000\n",
            "node: 851, cosine similarity: 1.0000\n"
          ]
        }
      ]
    }
  ]
}