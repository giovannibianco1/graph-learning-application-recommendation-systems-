{
  "nbformat": 4,
  "nbformat_minor": 0,
  "metadata": {
    "colab": {
      "provenance": [],
      "gpuType": "T4"
    },
    "kernelspec": {
      "name": "python3",
      "display_name": "Python 3"
    },
    "accelerator": "GPU"
  },
  "cells": [
    {
      "cell_type": "code",
      "metadata": {
        "id": "zF5bw3m9UrMy",
        "colab": {
          "base_uri": "https://localhost:8080/"
        },
        "outputId": "b7a7cbc4-f7ab-4729-d70f-ec9f8d69ac36"
      },
      "source": [
        "# Install required packages.\n",
        "import os\n",
        "import torch\n",
        "os.environ['TORCH'] = torch.__version__\n",
        "print(torch.__version__)\n",
        "\n",
        "!pip install -q torch-scatter -f https://data.pyg.org/whl/torch-${TORCH}.html\n",
        "!pip install -q torch-sparse -f https://data.pyg.org/whl/torch-${TORCH}.html\n",
        "!pip install -q git+https://github.com/pyg-team/pytorch_geometric.git\n",
        "\n",
        "# Helper function for visualization.\n",
        "%matplotlib inline\n",
        "import networkx as nx\n",
        "import matplotlib.pyplot as plt\n",
        "\n",
        "\n",
        "def visualize_graph(G, color):\n",
        "    plt.figure(figsize=(7,7))\n",
        "    plt.xticks([])\n",
        "    plt.yticks([])\n",
        "    nx.draw_networkx(G, pos=nx.spring_layout(G, seed=42), with_labels=False,\n",
        "                     node_color=color, cmap=\"Set2\")\n",
        "    plt.show()\n",
        "\n",
        "\n",
        "def visualize_embedding(h, color, epoch=None, loss=None):\n",
        "    plt.figure(figsize=(7,7))\n",
        "    plt.xticks([])\n",
        "    plt.yticks([])\n",
        "    h = h.detach().cpu().numpy()\n",
        "    plt.scatter(h[:, 0], h[:, 1], s=140, c=color, cmap=\"Set2\")\n",
        "    if epoch is not None and loss is not None:\n",
        "        plt.xlabel(f'Epoch: {epoch}, Loss: {loss.item():.4f}', fontsize=16)\n",
        "    plt.show()"
      ],
      "execution_count": null,
      "outputs": [
        {
          "output_type": "stream",
          "name": "stdout",
          "text": [
            "2.4.0+cu121\n",
            "  Installing build dependencies ... \u001b[?25l\u001b[?25hdone\n",
            "  Getting requirements to build wheel ... \u001b[?25l\u001b[?25hdone\n",
            "  Preparing metadata (pyproject.toml) ... \u001b[?25l\u001b[?25hdone\n"
          ]
        }
      ]
    },
    {
      "cell_type": "code",
      "metadata": {
        "id": "H_VTFHd0uFz6",
        "colab": {
          "base_uri": "https://localhost:8080/"
        },
        "outputId": "79ab8773-87e6-4459-ecf9-559c18a41d02"
      },
      "source": [
        "#from torch_geometric.datasets import Planetoid\n",
        "from torch_geometric.datasets import KarateClub\n",
        "#dataset = Planetoid(\"\",\"Cora\")\n",
        "dataset=KarateClub()\n",
        "print(f'Dataset: {dataset}:')\n",
        "print('======================')\n",
        "print(f'Number of graphs: {len(dataset)}')\n",
        "print(f'Number of features: {dataset.num_features}')\n",
        "print(f'Number of classes: {dataset.num_classes}')"
      ],
      "execution_count": null,
      "outputs": [
        {
          "output_type": "stream",
          "name": "stdout",
          "text": [
            "Dataset: KarateClub():\n",
            "======================\n",
            "Number of graphs: 1\n",
            "Number of features: 34\n",
            "Number of classes: 4\n"
          ]
        }
      ]
    },
    {
      "cell_type": "code",
      "metadata": {
        "id": "gUFSrDPxuQ23",
        "colab": {
          "base_uri": "https://localhost:8080/"
        },
        "outputId": "6e31cb8a-8d50-4ebf-bf53-94af17f4fae3"
      },
      "source": [
        "data = dataset[0]  # Get the first graph object.\n",
        "\n",
        "print(data)\n",
        "print('==============================================================')\n",
        "\n",
        "# Gather some statistics about the graph.\n",
        "print(f'Number of nodes: {data.num_nodes}')\n",
        "print(f'Number of edges: {data.num_edges}')\n",
        "print(f'Average node degree: {data.num_edges / data.num_nodes:.2f}')\n",
        "print(f'Number of training nodes: {data.train_mask.sum()}')\n",
        "print(f'Training node label rate: {int(data.train_mask.sum()) / data.num_nodes:.2f}')\n",
        "print(f'Has isolated nodes: {data.has_isolated_nodes()}')\n",
        "print(f'Has self-loops: {data.has_self_loops()}')\n",
        "print(f'Is undirected: {data.is_undirected()}')"
      ],
      "execution_count": null,
      "outputs": [
        {
          "output_type": "stream",
          "name": "stdout",
          "text": [
            "Data(x=[34, 34], edge_index=[2, 156], y=[34], train_mask=[34])\n",
            "==============================================================\n",
            "Number of nodes: 34\n",
            "Number of edges: 156\n",
            "Average node degree: 4.59\n",
            "Number of training nodes: 4\n",
            "Training node label rate: 0.12\n",
            "Has isolated nodes: False\n",
            "Has self-loops: False\n",
            "Is undirected: True\n"
          ]
        }
      ]
    },
    {
      "cell_type": "code",
      "metadata": {
        "id": "ci-LpZWhRJoI",
        "colab": {
          "base_uri": "https://localhost:8080/",
          "height": 300
        },
        "outputId": "13418060-d647-4bca-ab1f-31bfe2f89da1"
      },
      "source": [
        "from IPython.display import Javascript  # Restrict height of output cell.\n",
        "display(Javascript('''google.colab.output.setIframeHeight(0, true, {maxHeight: 300})'''))\n",
        "\n",
        "edge_index = data.edge_index\n",
        "print(edge_index)"
      ],
      "execution_count": null,
      "outputs": [
        {
          "output_type": "display_data",
          "data": {
            "text/plain": [
              "<IPython.core.display.Javascript object>"
            ],
            "application/javascript": [
              "google.colab.output.setIframeHeight(0, true, {maxHeight: 300})"
            ]
          },
          "metadata": {}
        },
        {
          "output_type": "stream",
          "name": "stdout",
          "text": [
            "tensor([[ 0,  0,  0,  0,  0,  0,  0,  0,  0,  0,  0,  0,  0,  0,  0,  0,  1,  1,\n",
            "          1,  1,  1,  1,  1,  1,  1,  2,  2,  2,  2,  2,  2,  2,  2,  2,  2,  3,\n",
            "          3,  3,  3,  3,  3,  4,  4,  4,  5,  5,  5,  5,  6,  6,  6,  6,  7,  7,\n",
            "          7,  7,  8,  8,  8,  8,  8,  9,  9, 10, 10, 10, 11, 12, 12, 13, 13, 13,\n",
            "         13, 13, 14, 14, 15, 15, 16, 16, 17, 17, 18, 18, 19, 19, 19, 20, 20, 21,\n",
            "         21, 22, 22, 23, 23, 23, 23, 23, 24, 24, 24, 25, 25, 25, 26, 26, 27, 27,\n",
            "         27, 27, 28, 28, 28, 29, 29, 29, 29, 30, 30, 30, 30, 31, 31, 31, 31, 31,\n",
            "         31, 32, 32, 32, 32, 32, 32, 32, 32, 32, 32, 32, 32, 33, 33, 33, 33, 33,\n",
            "         33, 33, 33, 33, 33, 33, 33, 33, 33, 33, 33, 33],\n",
            "        [ 1,  2,  3,  4,  5,  6,  7,  8, 10, 11, 12, 13, 17, 19, 21, 31,  0,  2,\n",
            "          3,  7, 13, 17, 19, 21, 30,  0,  1,  3,  7,  8,  9, 13, 27, 28, 32,  0,\n",
            "          1,  2,  7, 12, 13,  0,  6, 10,  0,  6, 10, 16,  0,  4,  5, 16,  0,  1,\n",
            "          2,  3,  0,  2, 30, 32, 33,  2, 33,  0,  4,  5,  0,  0,  3,  0,  1,  2,\n",
            "          3, 33, 32, 33, 32, 33,  5,  6,  0,  1, 32, 33,  0,  1, 33, 32, 33,  0,\n",
            "          1, 32, 33, 25, 27, 29, 32, 33, 25, 27, 31, 23, 24, 31, 29, 33,  2, 23,\n",
            "         24, 33,  2, 31, 33, 23, 26, 32, 33,  1,  8, 32, 33,  0, 24, 25, 28, 32,\n",
            "         33,  2,  8, 14, 15, 18, 20, 22, 23, 29, 30, 31, 33,  8,  9, 13, 14, 15,\n",
            "         18, 19, 20, 22, 23, 26, 27, 28, 29, 30, 31, 32]])\n"
          ]
        }
      ]
    },
    {
      "cell_type": "code",
      "source": [
        "#create adjacency matrics\n",
        "import numpy as np\n",
        "x=np.zeros([data.num_nodes,data.num_nodes])\n",
        "for i in range(edge_index.shape[1]):\n",
        "    x[edge_index[0,i],edge_index[1,i]]=1\n",
        "    x[edge_index[1,i],edge_index[0,i]]=1\n",
        "print(x)"
      ],
      "metadata": {
        "id": "vhA7p4iWcRyR",
        "outputId": "cb814819-869e-4f93-b6f5-74fa7c0842e5",
        "colab": {
          "base_uri": "https://localhost:8080/"
        }
      },
      "execution_count": null,
      "outputs": [
        {
          "output_type": "stream",
          "name": "stdout",
          "text": [
            "[[0. 1. 1. ... 1. 0. 0.]\n",
            " [1. 0. 1. ... 0. 0. 0.]\n",
            " [1. 1. 0. ... 0. 1. 0.]\n",
            " ...\n",
            " [1. 0. 0. ... 0. 1. 1.]\n",
            " [0. 0. 1. ... 1. 0. 1.]\n",
            " [0. 0. 0. ... 1. 1. 0.]]\n"
          ]
        }
      ]
    },
    {
      "cell_type": "markdown",
      "source": [
        "second version of cosine similarity vectorised"
      ],
      "metadata": {
        "id": "TGpVY_aqpC6b"
      }
    },
    {
      "cell_type": "code",
      "source": [
        "#this only works if the matrix x is symmetric, meaning we cannot use it with the embedd\n",
        "def cosine_similarity(x):\n",
        "  # Step 1: Normalize each row to have unit norm\n",
        "  norms = np.linalg.norm(x, axis=1, keepdims=True)\n",
        "  x_normalized = x / norms\n",
        "\n",
        "  # Step 2: Compute cosine similarity matrix\n",
        "  csim = np.dot(x_normalized, x_normalized.T)\n",
        "  return csim\n",
        "csim=cosine_similarity(x)\n",
        "print(csim)"
      ],
      "metadata": {
        "colab": {
          "base_uri": "https://localhost:8080/"
        },
        "id": "lGGEfefBgFxO",
        "outputId": "41438f4b-b73e-4211-facb-54cda869abe8"
      },
      "execution_count": null,
      "outputs": [
        {
          "output_type": "stream",
          "name": "stdout",
          "text": [
            "[[1.         0.58333333 0.39528471 ... 0.         0.21650635 0.24253563]\n",
            " [0.58333333 1.         0.42163702 ... 0.13608276 0.19245009 0.24253563]\n",
            " [0.39528471 0.42163702 1.         ... 0.38729833 0.09128709 0.46017899]\n",
            " ...\n",
            " [0.         0.13608276 0.38729833 ... 1.         0.11785113 0.19802951]\n",
            " [0.21650635 0.19245009 0.09128709 ... 0.11785113 1.         0.70014004]\n",
            " [0.24253563 0.24253563 0.46017899 ... 0.19802951 0.70014004 1.        ]]\n"
          ]
        }
      ]
    },
    {
      "cell_type": "code",
      "source": [
        "def suggestions(node,csim):\n",
        "    x = csim  # Assuming csim is defined elsewhere as a cosine similarity matrix\n",
        "    # Use argsort to get indices sorted by their cosine similarity values in ascending order\n",
        "    indices = np.argsort(x[node])\n",
        "\n",
        "    # Select the last 10 indices (the ones with the highest values) and reverse to make highest first\n",
        "    top_indices = indices[-10:][::-1]\n",
        "\n",
        "    # Print top indices for debug purposes\n",
        "    for i in top_indices:  # Using 'i' directly to iterate over top_indices\n",
        "        print(f'node: {i}, cosine similarity: {x[node][i]:.4f}')  # formatted to 4 decimal places\n",
        "\n",
        "suggestions(10,csim)"
      ],
      "metadata": {
        "colab": {
          "base_uri": "https://localhost:8080/"
        },
        "id": "jjw9PoVyi7xr",
        "outputId": "57745305-53f3-4436-c6f6-889c51735b56"
      },
      "execution_count": null,
      "outputs": [
        {
          "output_type": "stream",
          "name": "stdout",
          "text": [
            "node: 10, cosine similarity: 1.0000\n",
            "node: 6, cosine similarity: 0.8660\n",
            "node: 11, cosine similarity: 0.5774\n",
            "node: 17, cosine similarity: 0.4082\n",
            "node: 12, cosine similarity: 0.4082\n",
            "node: 16, cosine similarity: 0.4082\n",
            "node: 21, cosine similarity: 0.4082\n",
            "node: 19, cosine similarity: 0.3333\n",
            "node: 4, cosine similarity: 0.3333\n",
            "node: 0, cosine similarity: 0.2887\n"
          ]
        }
      ]
    },
    {
      "cell_type": "markdown",
      "source": [
        "Find the suggested nodes using the embed"
      ],
      "metadata": {
        "id": "XjehsVLvzjOL"
      }
    },
    {
      "cell_type": "code",
      "metadata": {
        "id": "AkQAVluLuxT_",
        "colab": {
          "base_uri": "https://localhost:8080/"
        },
        "outputId": "7a7d4efb-b4a2-40ef-e093-c5c8c9fd9657"
      },
      "source": [
        "import torch\n",
        "from torch.nn import Linear\n",
        "from torch_geometric.nn import GCNConv\n",
        "\n",
        "\n",
        "class GCN(torch.nn.Module):\n",
        "    def __init__(self):\n",
        "        super().__init__()\n",
        "        torch.manual_seed(1234)\n",
        "        self.conv1 = GCNConv(dataset.num_features, 4)\n",
        "        self.conv2 = GCNConv(4, 4)\n",
        "        self.conv3 = GCNConv(4, 2)\n",
        "        self.classifier = Linear(2, dataset.num_classes)\n",
        "\n",
        "    def forward(self, x, edge_index):\n",
        "        h = self.conv1(x, edge_index)\n",
        "        h = h.tanh()\n",
        "        h = self.conv2(h, edge_index)\n",
        "        h = h.tanh()\n",
        "        h = self.conv3(h, edge_index)\n",
        "        h = h.tanh()  # Final GNN embedding space.\n",
        "\n",
        "        # Apply a final (linear) classifier.\n",
        "        out = self.classifier(h)\n",
        "\n",
        "        return out, h\n",
        "\n",
        "model = GCN()\n",
        "print(model)"
      ],
      "execution_count": null,
      "outputs": [
        {
          "output_type": "stream",
          "name": "stdout",
          "text": [
            "GCN(\n",
            "  (conv1): GCNConv(34, 4)\n",
            "  (conv2): GCNConv(4, 4)\n",
            "  (conv3): GCNConv(4, 2)\n",
            "  (classifier): Linear(in_features=2, out_features=4, bias=True)\n",
            ")\n"
          ]
        }
      ]
    },
    {
      "cell_type": "code",
      "metadata": {
        "id": "nwHtX5siwe2v"
      },
      "source": [
        "model = GCN()\n",
        "\n",
        "_, h = model(data.x, data.edge_index)"
      ],
      "execution_count": null,
      "outputs": []
    },
    {
      "cell_type": "code",
      "source": [
        "import time\n",
        "from IPython.display import Javascript  # Restrict height of output cell.\n",
        "display(Javascript('''google.colab.output.setIframeHeight(0, true, {maxHeight: 430})'''))\n",
        "\n",
        "model = GCN()\n",
        "criterion = torch.nn.CrossEntropyLoss()  # Define loss criterion.\n",
        "optimizer = torch.optim.Adam(model.parameters(), lr=0.1)  # Define optimizer.\n",
        "\n",
        "def train(data):\n",
        "    optimizer.zero_grad()  # Clear gradients.\n",
        "    out, h = model(data.x, data.edge_index)  # Perform a single forward pass.\n",
        "    loss = criterion(out[data.train_mask], data.y[data.train_mask])  # Compute the loss solely based on the training nodes.\n",
        "    loss.backward()  # Derive gradients.\n",
        "    optimizer.step()  # Update parameters based on gradients.\n",
        "    return loss, h\n",
        "\n",
        "for epoch in range(400):\n",
        "    loss, h = train(data)"
      ],
      "metadata": {
        "id": "-CdWhsJiuGJL",
        "colab": {
          "base_uri": "https://localhost:8080/",
          "height": 17
        },
        "outputId": "f22fe869-fdf7-4515-f22f-29a551413efa"
      },
      "execution_count": null,
      "outputs": [
        {
          "output_type": "display_data",
          "data": {
            "text/plain": [
              "<IPython.core.display.Javascript object>"
            ],
            "application/javascript": [
              "google.colab.output.setIframeHeight(0, true, {maxHeight: 430})"
            ]
          },
          "metadata": {}
        }
      ]
    },
    {
      "cell_type": "code",
      "source": [
        "# Function to compute cosine similarity\n",
        "def cosine_similarity(vec1, vec2):\n",
        "    cos_sim = np.dot(vec1, vec2) / (np.linalg.norm(vec1) * np.linalg.norm(vec2))\n",
        "    return cos_sim\n",
        "\n",
        "h=h.detach().numpy()\n",
        "\n",
        "# Assuming h is your matrix of vectors where each row is a vector\n",
        "# Initialize dictionary to hold cosine similarities\n",
        "csim = {}\n",
        "for i in range(h.shape[0]):  # Iterate over each vector (row)\n",
        "    for j in range(h.shape[0]):\n",
        "        csim[(i, j)] = cosine_similarity(h[i, :], h[j, :])\n",
        "\n",
        "# Create for each row a list of the 10 most similar rows\n",
        "top = {}\n",
        "for i in range(h.shape[0]):\n",
        "    top_i = np.zeros([10, 2]) - 1  # Initialize with -1 to handle minimum correctly\n",
        "    for j in range(h.shape[0]):\n",
        "        current_similarity = csim[(i, j)]\n",
        "        if current_similarity > np.min(top_i[:, 1]):\n",
        "            min_index = np.argmin(top_i[:, 1])\n",
        "            top_i[min_index] = [j, current_similarity]\n",
        "    top[i] = top_i\n",
        "\n",
        "# Example: print the top 10 most similar rows for row 10\n",
        "results =np.array( top[10] ) # array of the 10 most similar rows for node 10\n",
        "sorted_indices = np.argsort(results[:, 1])\n",
        "sorted_results = results[sorted_indices][::-1]\n",
        "\n",
        "for node, similarity in sorted_results:\n",
        "    print(f'node: {int(node)}, cosine similarity: {similarity:.4f}')  # formatted to 4 decimal places\n"
      ],
      "metadata": {
        "colab": {
          "base_uri": "https://localhost:8080/"
        },
        "id": "paCj8Uwk0fYK",
        "outputId": "e2ffae2a-fa56-45ed-d400-5b785e877c7c"
      },
      "execution_count": null,
      "outputs": [
        {
          "output_type": "stream",
          "name": "stdout",
          "text": [
            "node: 10, cosine similarity: 1.0000\n",
            "node: 4, cosine similarity: 1.0000\n",
            "node: 5, cosine similarity: 1.0000\n",
            "node: 6, cosine similarity: 1.0000\n",
            "node: 16, cosine similarity: 1.0000\n",
            "node: 11, cosine similarity: 0.0119\n",
            "node: 0, cosine similarity: 0.0007\n",
            "node: 24, cosine similarity: -0.0007\n",
            "node: 25, cosine similarity: -0.0009\n",
            "node: 3, cosine similarity: -0.0423\n"
          ]
        }
      ]
    }
  ]
}